{
 "cells": [
  {
   "cell_type": "markdown",
   "metadata": {},
   "source": [
    "# Hi! Welcome to my VAR Model Tutorial!"
   ]
  },
  {
   "cell_type": "markdown",
   "metadata": {},
   "source": [
    "I was struggling to learn how to fit a VAR in Python, so I really decided to make this tutorial so people don't struggle like I did. #scale #share #benice"
   ]
  },
  {
   "cell_type": "markdown",
   "metadata": {},
   "source": [
    "# # First, let's import the libraries and functions we are going to need"
   ]
  },
  {
   "cell_type": "code",
   "execution_count": 3,
   "metadata": {
    "collapsed": true
   },
   "outputs": [],
   "source": [
    "import numpy as np\n",
    "import pandas\n",
    "import statsmodels.api as sm\n",
    "from statsmodels.tsa.api import VAR, DynamicVAR"
   ]
  },
  {
   "cell_type": "markdown",
   "metadata": {},
   "source": [
    "If you encounter any error like \n",
    "\"\n",
    "ImportErrorTraceback (most recent call last)\n",
    "<ipython-input-40-56b09edbbfb5> in <module>()\n",
    "----> 1 import xxx\n",
    "\n",
    "ImportError: No module named ana\n",
    "\",\n",
    "it means that one or more of the libraries you are trying to install, is not install.\n",
    "\n",
    "Two options, in that case:\n",
    "\n",
    "*on the terminal, run pip install 'name of the package that appeared after the \"No module named\" phrase\n",
    "*if that does not work, on this notebook run !pip install name_of_package"
   ]
  },
  {
   "cell_type": "markdown",
   "metadata": {},
   "source": [
    "# Now, let's import some sample data"
   ]
  },
  {
   "cell_type": "markdown",
   "metadata": {},
   "source": [
    "We have to transform the data we loaded into a data frame. As a rule of thumb, if you are a begginer in Python, you will only be able to do fun stuff if you place your data in a data.frame. Memorize this command!"
   ]
  },
  {
   "cell_type": "code",
   "execution_count": 4,
   "metadata": {
    "collapsed": true
   },
   "outputs": [],
   "source": [
    "mdata = sm.datasets.macrodata.load_pandas().data"
   ]
  },
  {
   "cell_type": "markdown",
   "metadata": {},
   "source": [
    "We will be using some sample pandas data! If you have your own dataframe, feel free to use it in this tutorial"
   ]
  },
  {
   "cell_type": "code",
   "execution_count": 10,
   "metadata": {
    "collapsed": true
   },
   "outputs": [],
   "source": [
    "data=pandas.DataFrame(mdata)"
   ]
  },
  {
   "cell_type": "markdown",
   "metadata": {},
   "source": [
    "I always run the head command to make sure everything is all right with the data. Also, we can take a look at what is data like"
   ]
  },
  {
   "cell_type": "code",
   "execution_count": 11,
   "metadata": {
    "collapsed": false
   },
   "outputs": [
    {
     "data": {
      "text/html": [
       "<div>\n",
       "<table border=\"1\" class=\"dataframe\">\n",
       "  <thead>\n",
       "    <tr style=\"text-align: right;\">\n",
       "      <th></th>\n",
       "      <th>year</th>\n",
       "      <th>quarter</th>\n",
       "      <th>realgdp</th>\n",
       "      <th>realcons</th>\n",
       "      <th>realinv</th>\n",
       "      <th>realgovt</th>\n",
       "      <th>realdpi</th>\n",
       "      <th>cpi</th>\n",
       "      <th>m1</th>\n",
       "      <th>tbilrate</th>\n",
       "      <th>unemp</th>\n",
       "      <th>pop</th>\n",
       "      <th>infl</th>\n",
       "      <th>realint</th>\n",
       "    </tr>\n",
       "  </thead>\n",
       "  <tbody>\n",
       "    <tr>\n",
       "      <th>0</th>\n",
       "      <td>1959.0</td>\n",
       "      <td>1.0</td>\n",
       "      <td>2710.349</td>\n",
       "      <td>1707.4</td>\n",
       "      <td>286.898</td>\n",
       "      <td>470.045</td>\n",
       "      <td>1886.9</td>\n",
       "      <td>28.98</td>\n",
       "      <td>139.7</td>\n",
       "      <td>2.82</td>\n",
       "      <td>5.8</td>\n",
       "      <td>177.146</td>\n",
       "      <td>0.00</td>\n",
       "      <td>0.00</td>\n",
       "    </tr>\n",
       "    <tr>\n",
       "      <th>1</th>\n",
       "      <td>1959.0</td>\n",
       "      <td>2.0</td>\n",
       "      <td>2778.801</td>\n",
       "      <td>1733.7</td>\n",
       "      <td>310.859</td>\n",
       "      <td>481.301</td>\n",
       "      <td>1919.7</td>\n",
       "      <td>29.15</td>\n",
       "      <td>141.7</td>\n",
       "      <td>3.08</td>\n",
       "      <td>5.1</td>\n",
       "      <td>177.830</td>\n",
       "      <td>2.34</td>\n",
       "      <td>0.74</td>\n",
       "    </tr>\n",
       "    <tr>\n",
       "      <th>2</th>\n",
       "      <td>1959.0</td>\n",
       "      <td>3.0</td>\n",
       "      <td>2775.488</td>\n",
       "      <td>1751.8</td>\n",
       "      <td>289.226</td>\n",
       "      <td>491.260</td>\n",
       "      <td>1916.4</td>\n",
       "      <td>29.35</td>\n",
       "      <td>140.5</td>\n",
       "      <td>3.82</td>\n",
       "      <td>5.3</td>\n",
       "      <td>178.657</td>\n",
       "      <td>2.74</td>\n",
       "      <td>1.09</td>\n",
       "    </tr>\n",
       "    <tr>\n",
       "      <th>3</th>\n",
       "      <td>1959.0</td>\n",
       "      <td>4.0</td>\n",
       "      <td>2785.204</td>\n",
       "      <td>1753.7</td>\n",
       "      <td>299.356</td>\n",
       "      <td>484.052</td>\n",
       "      <td>1931.3</td>\n",
       "      <td>29.37</td>\n",
       "      <td>140.0</td>\n",
       "      <td>4.33</td>\n",
       "      <td>5.6</td>\n",
       "      <td>179.386</td>\n",
       "      <td>0.27</td>\n",
       "      <td>4.06</td>\n",
       "    </tr>\n",
       "    <tr>\n",
       "      <th>4</th>\n",
       "      <td>1960.0</td>\n",
       "      <td>1.0</td>\n",
       "      <td>2847.699</td>\n",
       "      <td>1770.5</td>\n",
       "      <td>331.722</td>\n",
       "      <td>462.199</td>\n",
       "      <td>1955.5</td>\n",
       "      <td>29.54</td>\n",
       "      <td>139.6</td>\n",
       "      <td>3.50</td>\n",
       "      <td>5.2</td>\n",
       "      <td>180.007</td>\n",
       "      <td>2.31</td>\n",
       "      <td>1.19</td>\n",
       "    </tr>\n",
       "  </tbody>\n",
       "</table>\n",
       "</div>"
      ],
      "text/plain": [
       "     year  quarter   realgdp  realcons  realinv  realgovt  realdpi    cpi  \\\n",
       "0  1959.0      1.0  2710.349    1707.4  286.898   470.045   1886.9  28.98   \n",
       "1  1959.0      2.0  2778.801    1733.7  310.859   481.301   1919.7  29.15   \n",
       "2  1959.0      3.0  2775.488    1751.8  289.226   491.260   1916.4  29.35   \n",
       "3  1959.0      4.0  2785.204    1753.7  299.356   484.052   1931.3  29.37   \n",
       "4  1960.0      1.0  2847.699    1770.5  331.722   462.199   1955.5  29.54   \n",
       "\n",
       "      m1  tbilrate  unemp      pop  infl  realint  \n",
       "0  139.7      2.82    5.8  177.146  0.00     0.00  \n",
       "1  141.7      3.08    5.1  177.830  2.34     0.74  \n",
       "2  140.5      3.82    5.3  178.657  2.74     1.09  \n",
       "3  140.0      4.33    5.6  179.386  0.27     4.06  \n",
       "4  139.6      3.50    5.2  180.007  2.31     1.19  "
      ]
     },
     "execution_count": 11,
     "metadata": {},
     "output_type": "execute_result"
    }
   ],
   "source": [
    "data.head()"
   ]
  },
  {
   "cell_type": "markdown",
   "metadata": {},
   "source": [
    "Ok, now we are good to go! \n",
    "# First, lets select the variables we want to run in our VAR"
   ]
  },
  {
   "cell_type": "code",
   "execution_count": 14,
   "metadata": {
    "collapsed": true
   },
   "outputs": [],
   "source": [
    "mdata = data[['realgdp','realcons','realinv']]"
   ]
  },
  {
   "cell_type": "markdown",
   "metadata": {},
   "source": [
    "In order to run the VAR model, we have to provide an index object. An index object is the object that has the dates sequence. If you dont have this object, Python will not know the order of the dates and will not be abble to run anything!\n",
    "\n",
    "The first command bellow, is simply separating the two coluns of data in your dataset into one.\n",
    "\n",
    "Next comman creates a variable like YEARQ1 (ex: 2016Q1), simply to improbe the format. I used the print command so you could check the result out."
   ]
  },
  {
   "cell_type": "code",
   "execution_count": 24,
   "metadata": {
    "collapsed": true
   },
   "outputs": [],
   "source": [
    "dates = data[['year', 'quarter']].astype(int).astype(str)"
   ]
  },
  {
   "cell_type": "code",
   "execution_count": 32,
   "metadata": {
    "collapsed": false
   },
   "outputs": [
    {
     "name": "stdout",
     "output_type": "stream",
     "text": [
      "0      1959Q1\n",
      "1      1959Q2\n",
      "2      1959Q3\n",
      "3      1959Q4\n",
      "4      1960Q1\n",
      "5      1960Q2\n",
      "6      1960Q3\n",
      "7      1960Q4\n",
      "8      1961Q1\n",
      "9      1961Q2\n",
      "10     1961Q3\n",
      "11     1961Q4\n",
      "12     1962Q1\n",
      "13     1962Q2\n",
      "14     1962Q3\n",
      "15     1962Q4\n",
      "16     1963Q1\n",
      "17     1963Q2\n",
      "18     1963Q3\n",
      "19     1963Q4\n",
      "20     1964Q1\n",
      "21     1964Q2\n",
      "22     1964Q3\n",
      "23     1964Q4\n",
      "24     1965Q1\n",
      "25     1965Q2\n",
      "26     1965Q3\n",
      "27     1965Q4\n",
      "28     1966Q1\n",
      "29     1966Q2\n",
      "        ...  \n",
      "173    2002Q2\n",
      "174    2002Q3\n",
      "175    2002Q4\n",
      "176    2003Q1\n",
      "177    2003Q2\n",
      "178    2003Q3\n",
      "179    2003Q4\n",
      "180    2004Q1\n",
      "181    2004Q2\n",
      "182    2004Q3\n",
      "183    2004Q4\n",
      "184    2005Q1\n",
      "185    2005Q2\n",
      "186    2005Q3\n",
      "187    2005Q4\n",
      "188    2006Q1\n",
      "189    2006Q2\n",
      "190    2006Q3\n",
      "191    2006Q4\n",
      "192    2007Q1\n",
      "193    2007Q2\n",
      "194    2007Q3\n",
      "195    2007Q4\n",
      "196    2008Q1\n",
      "197    2008Q2\n",
      "198    2008Q3\n",
      "199    2008Q4\n",
      "200    2009Q1\n",
      "201    2009Q2\n",
      "202    2009Q3\n",
      "dtype: object\n"
     ]
    }
   ],
   "source": [
    "quartely = dates[\"year\"] + \"Q\" + dates[\"quarter\"]\n",
    "print(quartely)"
   ]
  },
  {
   "cell_type": "markdown",
   "metadata": {},
   "source": [
    "Next, we need to implant a command that convert the string we created into datetime variables."
   ]
  },
  {
   "cell_type": "code",
   "execution_count": 33,
   "metadata": {
    "collapsed": true
   },
   "outputs": [],
   "source": [
    "from statsmodels.tsa.base.datetools import dates_from_str\n"
   ]
  },
  {
   "cell_type": "code",
   "execution_count": 34,
   "metadata": {
    "collapsed": false
   },
   "outputs": [
    {
     "name": "stdout",
     "output_type": "stream",
     "text": [
      "[datetime.datetime(1959, 3, 31, 0, 0), datetime.datetime(1959, 6, 30, 0, 0), datetime.datetime(1959, 9, 30, 0, 0), datetime.datetime(1959, 12, 31, 0, 0), datetime.datetime(1960, 3, 31, 0, 0), datetime.datetime(1960, 6, 30, 0, 0), datetime.datetime(1960, 9, 30, 0, 0), datetime.datetime(1960, 12, 31, 0, 0), datetime.datetime(1961, 3, 31, 0, 0), datetime.datetime(1961, 6, 30, 0, 0), datetime.datetime(1961, 9, 30, 0, 0), datetime.datetime(1961, 12, 31, 0, 0), datetime.datetime(1962, 3, 31, 0, 0), datetime.datetime(1962, 6, 30, 0, 0), datetime.datetime(1962, 9, 30, 0, 0), datetime.datetime(1962, 12, 31, 0, 0), datetime.datetime(1963, 3, 31, 0, 0), datetime.datetime(1963, 6, 30, 0, 0), datetime.datetime(1963, 9, 30, 0, 0), datetime.datetime(1963, 12, 31, 0, 0), datetime.datetime(1964, 3, 31, 0, 0), datetime.datetime(1964, 6, 30, 0, 0), datetime.datetime(1964, 9, 30, 0, 0), datetime.datetime(1964, 12, 31, 0, 0), datetime.datetime(1965, 3, 31, 0, 0), datetime.datetime(1965, 6, 30, 0, 0), datetime.datetime(1965, 9, 30, 0, 0), datetime.datetime(1965, 12, 31, 0, 0), datetime.datetime(1966, 3, 31, 0, 0), datetime.datetime(1966, 6, 30, 0, 0), datetime.datetime(1966, 9, 30, 0, 0), datetime.datetime(1966, 12, 31, 0, 0), datetime.datetime(1967, 3, 31, 0, 0), datetime.datetime(1967, 6, 30, 0, 0), datetime.datetime(1967, 9, 30, 0, 0), datetime.datetime(1967, 12, 31, 0, 0), datetime.datetime(1968, 3, 31, 0, 0), datetime.datetime(1968, 6, 30, 0, 0), datetime.datetime(1968, 9, 30, 0, 0), datetime.datetime(1968, 12, 31, 0, 0), datetime.datetime(1969, 3, 31, 0, 0), datetime.datetime(1969, 6, 30, 0, 0), datetime.datetime(1969, 9, 30, 0, 0), datetime.datetime(1969, 12, 31, 0, 0), datetime.datetime(1970, 3, 31, 0, 0), datetime.datetime(1970, 6, 30, 0, 0), datetime.datetime(1970, 9, 30, 0, 0), datetime.datetime(1970, 12, 31, 0, 0), datetime.datetime(1971, 3, 31, 0, 0), datetime.datetime(1971, 6, 30, 0, 0), datetime.datetime(1971, 9, 30, 0, 0), datetime.datetime(1971, 12, 31, 0, 0), datetime.datetime(1972, 3, 31, 0, 0), datetime.datetime(1972, 6, 30, 0, 0), datetime.datetime(1972, 9, 30, 0, 0), datetime.datetime(1972, 12, 31, 0, 0), datetime.datetime(1973, 3, 31, 0, 0), datetime.datetime(1973, 6, 30, 0, 0), datetime.datetime(1973, 9, 30, 0, 0), datetime.datetime(1973, 12, 31, 0, 0), datetime.datetime(1974, 3, 31, 0, 0), datetime.datetime(1974, 6, 30, 0, 0), datetime.datetime(1974, 9, 30, 0, 0), datetime.datetime(1974, 12, 31, 0, 0), datetime.datetime(1975, 3, 31, 0, 0), datetime.datetime(1975, 6, 30, 0, 0), datetime.datetime(1975, 9, 30, 0, 0), datetime.datetime(1975, 12, 31, 0, 0), datetime.datetime(1976, 3, 31, 0, 0), datetime.datetime(1976, 6, 30, 0, 0), datetime.datetime(1976, 9, 30, 0, 0), datetime.datetime(1976, 12, 31, 0, 0), datetime.datetime(1977, 3, 31, 0, 0), datetime.datetime(1977, 6, 30, 0, 0), datetime.datetime(1977, 9, 30, 0, 0), datetime.datetime(1977, 12, 31, 0, 0), datetime.datetime(1978, 3, 31, 0, 0), datetime.datetime(1978, 6, 30, 0, 0), datetime.datetime(1978, 9, 30, 0, 0), datetime.datetime(1978, 12, 31, 0, 0), datetime.datetime(1979, 3, 31, 0, 0), datetime.datetime(1979, 6, 30, 0, 0), datetime.datetime(1979, 9, 30, 0, 0), datetime.datetime(1979, 12, 31, 0, 0), datetime.datetime(1980, 3, 31, 0, 0), datetime.datetime(1980, 6, 30, 0, 0), datetime.datetime(1980, 9, 30, 0, 0), datetime.datetime(1980, 12, 31, 0, 0), datetime.datetime(1981, 3, 31, 0, 0), datetime.datetime(1981, 6, 30, 0, 0), datetime.datetime(1981, 9, 30, 0, 0), datetime.datetime(1981, 12, 31, 0, 0), datetime.datetime(1982, 3, 31, 0, 0), datetime.datetime(1982, 6, 30, 0, 0), datetime.datetime(1982, 9, 30, 0, 0), datetime.datetime(1982, 12, 31, 0, 0), datetime.datetime(1983, 3, 31, 0, 0), datetime.datetime(1983, 6, 30, 0, 0), datetime.datetime(1983, 9, 30, 0, 0), datetime.datetime(1983, 12, 31, 0, 0), datetime.datetime(1984, 3, 31, 0, 0), datetime.datetime(1984, 6, 30, 0, 0), datetime.datetime(1984, 9, 30, 0, 0), datetime.datetime(1984, 12, 31, 0, 0), datetime.datetime(1985, 3, 31, 0, 0), datetime.datetime(1985, 6, 30, 0, 0), datetime.datetime(1985, 9, 30, 0, 0), datetime.datetime(1985, 12, 31, 0, 0), datetime.datetime(1986, 3, 31, 0, 0), datetime.datetime(1986, 6, 30, 0, 0), datetime.datetime(1986, 9, 30, 0, 0), datetime.datetime(1986, 12, 31, 0, 0), datetime.datetime(1987, 3, 31, 0, 0), datetime.datetime(1987, 6, 30, 0, 0), datetime.datetime(1987, 9, 30, 0, 0), datetime.datetime(1987, 12, 31, 0, 0), datetime.datetime(1988, 3, 31, 0, 0), datetime.datetime(1988, 6, 30, 0, 0), datetime.datetime(1988, 9, 30, 0, 0), datetime.datetime(1988, 12, 31, 0, 0), datetime.datetime(1989, 3, 31, 0, 0), datetime.datetime(1989, 6, 30, 0, 0), datetime.datetime(1989, 9, 30, 0, 0), datetime.datetime(1989, 12, 31, 0, 0), datetime.datetime(1990, 3, 31, 0, 0), datetime.datetime(1990, 6, 30, 0, 0), datetime.datetime(1990, 9, 30, 0, 0), datetime.datetime(1990, 12, 31, 0, 0), datetime.datetime(1991, 3, 31, 0, 0), datetime.datetime(1991, 6, 30, 0, 0), datetime.datetime(1991, 9, 30, 0, 0), datetime.datetime(1991, 12, 31, 0, 0), datetime.datetime(1992, 3, 31, 0, 0), datetime.datetime(1992, 6, 30, 0, 0), datetime.datetime(1992, 9, 30, 0, 0), datetime.datetime(1992, 12, 31, 0, 0), datetime.datetime(1993, 3, 31, 0, 0), datetime.datetime(1993, 6, 30, 0, 0), datetime.datetime(1993, 9, 30, 0, 0), datetime.datetime(1993, 12, 31, 0, 0), datetime.datetime(1994, 3, 31, 0, 0), datetime.datetime(1994, 6, 30, 0, 0), datetime.datetime(1994, 9, 30, 0, 0), datetime.datetime(1994, 12, 31, 0, 0), datetime.datetime(1995, 3, 31, 0, 0), datetime.datetime(1995, 6, 30, 0, 0), datetime.datetime(1995, 9, 30, 0, 0), datetime.datetime(1995, 12, 31, 0, 0), datetime.datetime(1996, 3, 31, 0, 0), datetime.datetime(1996, 6, 30, 0, 0), datetime.datetime(1996, 9, 30, 0, 0), datetime.datetime(1996, 12, 31, 0, 0), datetime.datetime(1997, 3, 31, 0, 0), datetime.datetime(1997, 6, 30, 0, 0), datetime.datetime(1997, 9, 30, 0, 0), datetime.datetime(1997, 12, 31, 0, 0), datetime.datetime(1998, 3, 31, 0, 0), datetime.datetime(1998, 6, 30, 0, 0), datetime.datetime(1998, 9, 30, 0, 0), datetime.datetime(1998, 12, 31, 0, 0), datetime.datetime(1999, 3, 31, 0, 0), datetime.datetime(1999, 6, 30, 0, 0), datetime.datetime(1999, 9, 30, 0, 0), datetime.datetime(1999, 12, 31, 0, 0), datetime.datetime(2000, 3, 31, 0, 0), datetime.datetime(2000, 6, 30, 0, 0), datetime.datetime(2000, 9, 30, 0, 0), datetime.datetime(2000, 12, 31, 0, 0), datetime.datetime(2001, 3, 31, 0, 0), datetime.datetime(2001, 6, 30, 0, 0), datetime.datetime(2001, 9, 30, 0, 0), datetime.datetime(2001, 12, 31, 0, 0), datetime.datetime(2002, 3, 31, 0, 0), datetime.datetime(2002, 6, 30, 0, 0), datetime.datetime(2002, 9, 30, 0, 0), datetime.datetime(2002, 12, 31, 0, 0), datetime.datetime(2003, 3, 31, 0, 0), datetime.datetime(2003, 6, 30, 0, 0), datetime.datetime(2003, 9, 30, 0, 0), datetime.datetime(2003, 12, 31, 0, 0), datetime.datetime(2004, 3, 31, 0, 0), datetime.datetime(2004, 6, 30, 0, 0), datetime.datetime(2004, 9, 30, 0, 0), datetime.datetime(2004, 12, 31, 0, 0), datetime.datetime(2005, 3, 31, 0, 0), datetime.datetime(2005, 6, 30, 0, 0), datetime.datetime(2005, 9, 30, 0, 0), datetime.datetime(2005, 12, 31, 0, 0), datetime.datetime(2006, 3, 31, 0, 0), datetime.datetime(2006, 6, 30, 0, 0), datetime.datetime(2006, 9, 30, 0, 0), datetime.datetime(2006, 12, 31, 0, 0), datetime.datetime(2007, 3, 31, 0, 0), datetime.datetime(2007, 6, 30, 0, 0), datetime.datetime(2007, 9, 30, 0, 0), datetime.datetime(2007, 12, 31, 0, 0), datetime.datetime(2008, 3, 31, 0, 0), datetime.datetime(2008, 6, 30, 0, 0), datetime.datetime(2008, 9, 30, 0, 0), datetime.datetime(2008, 12, 31, 0, 0), datetime.datetime(2009, 3, 31, 0, 0), datetime.datetime(2009, 6, 30, 0, 0), datetime.datetime(2009, 9, 30, 0, 0)]\n"
     ]
    }
   ],
   "source": [
    "quartely=dates_from_str(quartely)\n",
    "print(quartely)"
   ]
  },
  {
   "cell_type": "markdown",
   "metadata": {},
   "source": [
    "Now, what we have to do is to create the datetime index!"
   ]
  },
  {
   "cell_type": "code",
   "execution_count": 43,
   "metadata": {
    "collapsed": true
   },
   "outputs": [],
   "source": [
    "mdata.index = pandas.DatetimeIndex(quarterly)"
   ]
  },
  {
   "cell_type": "markdown",
   "metadata": {},
   "source": [
    "# Ok, done! Let's create the VAR!"
   ]
  },
  {
   "cell_type": "markdown",
   "metadata": {},
   "source": [
    "In the first command, we are actually telling Python to create the VAR model."
   ]
  },
  {
   "cell_type": "code",
   "execution_count": 44,
   "metadata": {
    "collapsed": true
   },
   "outputs": [],
   "source": [
    "model=VAR(mdata)"
   ]
  },
  {
   "cell_type": "markdown",
   "metadata": {},
   "source": [
    "But now we have to tell VAR what will be our model lag!"
   ]
  },
  {
   "cell_type": "code",
   "execution_count": 45,
   "metadata": {
    "collapsed": true
   },
   "outputs": [],
   "source": [
    "results = model.fit(2) #the number in parenthesis is the lag!"
   ]
  },
  {
   "cell_type": "code",
   "execution_count": 46,
   "metadata": {
    "collapsed": false
   },
   "outputs": [
    {
     "data": {
      "text/plain": [
       "  Summary of Regression Results   \n",
       "==================================\n",
       "Model:                         VAR\n",
       "Method:                        OLS\n",
       "Date:           Fri, 28, Apr, 2017\n",
       "Time:                     18:07:11\n",
       "--------------------------------------------------------------------\n",
       "No. of Equations:         3.00000    BIC:                    20.3676\n",
       "Nobs:                     201.000    HQIC:                   20.1621\n",
       "Log likelihood:          -2846.88    FPE:                4.96244e+08\n",
       "AIC:                      20.0225    Det(Omega_mle):     4.47809e+08\n",
       "--------------------------------------------------------------------\n",
       "Results for equation realgdp\n",
       "==============================================================================\n",
       "                 coefficient       std. error           t-stat            prob\n",
       "------------------------------------------------------------------------------\n",
       "const              24.839339        18.300864            1.357           0.176\n",
       "L1.realgdp          0.491262         0.151347            3.246           0.001\n",
       "L1.realcons         1.494143         0.178426            8.374           0.000\n",
       "L1.realinv          0.654032         0.157738            4.146           0.000\n",
       "L2.realgdp          0.461341         0.147176            3.135           0.002\n",
       "L2.realcons        -1.409239         0.169909           -8.294           0.000\n",
       "L2.realinv         -0.727495         0.163797           -4.441           0.000\n",
       "==============================================================================\n",
       "\n",
       "Results for equation realcons\n",
       "==============================================================================\n",
       "                 coefficient       std. error           t-stat            prob\n",
       "------------------------------------------------------------------------------\n",
       "const               6.227429        10.868462            0.573           0.567\n",
       "L1.realgdp         -0.261425         0.089882           -2.909           0.004\n",
       "L1.realcons         1.532753         0.105963           14.465           0.000\n",
       "L1.realinv          0.414808         0.093677            4.428           0.000\n",
       "L2.realgdp          0.272378         0.087404            3.116           0.002\n",
       "L2.realcons        -0.546518         0.100905           -5.416           0.000\n",
       "L2.realinv         -0.405336         0.097275           -4.167           0.000\n",
       "==============================================================================\n",
       "\n",
       "Results for equation realinv\n",
       "==============================================================================\n",
       "                 coefficient       std. error           t-stat            prob\n",
       "------------------------------------------------------------------------------\n",
       "const              -4.992331        12.996408           -0.384           0.701\n",
       "L1.realgdp         -0.227046         0.107480           -2.112           0.036\n",
       "L1.realcons         1.086304         0.126710            8.573           0.000\n",
       "L1.realinv          1.351368         0.112018           12.064           0.000\n",
       "L2.realgdp          0.200263         0.104517            1.916           0.057\n",
       "L2.realcons        -1.031238         0.120661           -8.547           0.000\n",
       "L2.realinv         -0.442166         0.116321           -3.801           0.000\n",
       "==============================================================================\n",
       "\n",
       "Correlation matrix of residuals\n",
       "             realgdp  realcons   realinv\n",
       "realgdp     1.000000  0.561036  0.692816\n",
       "realcons    0.561036  1.000000  0.023136\n",
       "realinv     0.692816  0.023136  1.000000\n",
       "\n"
      ]
     },
     "execution_count": 46,
     "metadata": {},
     "output_type": "execute_result"
    }
   ],
   "source": [
    "results.summary() #this returns the VAR equation and coefficients!"
   ]
  },
  {
   "cell_type": "markdown",
   "metadata": {},
   "source": [
    "# Let's do some fun graphs now!"
   ]
  },
  {
   "cell_type": "markdown",
   "metadata": {},
   "source": [
    "There is one little trick here (or, as we say in Brazil, \"uma pegadinha!\"). If you are not used to Python, you will probably would be very frustrated for a few moments before finding out what to do.\n",
    "The thing is that, by defacult, iPython notebook does not display graphs on its console. It just displays tabs.\n",
    "Also, many graphs are run by the matplotlib. So, in that case, we will do two things:\n",
    "\n",
    "* Import the matplotlib\n",
    "* Tell iPython notebook that we want it to display things here in the console.\n",
    "\n",
    "Let's?"
   ]
  },
  {
   "cell_type": "code",
   "execution_count": 73,
   "metadata": {
    "collapsed": true
   },
   "outputs": [],
   "source": [
    "import matplotlib #this is us importing matplotlib\n",
    "%matplotlib inline #this is us telling that "
   ]
  },
  {
   "cell_type": "code",
   "execution_count": 84,
   "metadata": {
    "collapsed": false
   },
   "outputs": [
    {
     "data": {
      "image/png": "[encoded data removed]",
      "text/plain": [
       "<matplotlib.figure.Figure at 0x7f5e7935bc50>"
      ]
     },
     "metadata": {},
     "output_type": "display_data"
    }
   ],
   "source": [
    "results.plot() #this plots out the timeseries\n",
    "import matplotlib.pyplot as plt\n",
    "plt.savefig('foo2.png')"
   ]
  },
  {
   "cell_type": "code",
   "execution_count": 81,
   "metadata": {
    "collapsed": true
   },
   "outputs": [],
   "source": [
    "import matplotlib\n",
    "%matplotlib inline"
   ]
  }
 ],
 "metadata": {
  "kernelspec": {
   "display_name": "Python 2 (General DS)",
   "language": "python",
   "name": "python2"
  },
  "language_info": {
   "codemirror_mode": {
    "name": "ipython",
    "version": 2
   },
   "file_extension": ".py",
   "mimetype": "text/x-python",
   "name": "python",
   "nbconvert_exporter": "python",
   "pygments_lexer": "ipython2",
   "version": "2.7.10"
  }
 },
 "nbformat": 4,
 "nbformat_minor": 2
}
